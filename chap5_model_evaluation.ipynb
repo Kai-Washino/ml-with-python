{
 "cells": [
  {
   "cell_type": "code",
   "execution_count": 2,
   "id": "61ea128a",
   "metadata": {},
   "outputs": [],
   "source": [
    "from sklearn.model_selection import cross_val_score\n",
    "\n",
    "from sklearn.datasets import load_iris\n",
    "\n",
    "from sklearn.linear_model import LogisticRegression"
   ]
  },
  {
   "cell_type": "markdown",
   "id": "ccee82f7",
   "metadata": {},
   "source": [
    "# 交差検証\n",
    "交差検証(cross-validation)はデータの分割を何度も繰り返して行い，複数のモデルを訓練する．  \n",
    "訓練セットとテストセットの分割を何度もするイメージに近い．  \n",
    "\n",
    "### k-fold cross-validation_\n",
    "最もよく使われる交差検証はk-fold cross-validation．  \n",
    "5-fold cross-validationはデータを5つに分割し1をテストセット，他を訓練セットして使用．   \n",
    "これを1から5まで5回繰り返す．  \n",
    "\n",
    "データセットの偏りに精度が依存する場合の性能の違いがわかる．  \n",
    "分割数を増やすと，毎回の訓練データに使用できるデータ量が増える．  \n",
    "ただし，交差検証はk倍時間がかかる．\n",
    "\n",
    "また，データセットの正解ラベルの偏りを無くすために，stratified k-fold cross-validationがある．"
   ]
  },
  {
   "cell_type": "code",
   "execution_count": 4,
   "id": "08700bbc",
   "metadata": {},
   "outputs": [
    {
     "name": "stdout",
     "output_type": "stream",
     "text": [
      "Cross-validation scores: [0.96666667 1.         0.93333333 0.96666667 1.        ]\n",
      "Average cross-validation score: 0.97\n"
     ]
    }
   ],
   "source": [
    "# irisデータセットのk-fold cross-validation\n",
    "\n",
    "iris = load_iris()\n",
    "logreg = LogisticRegression(max_iter=1000)\n",
    "\n",
    "scores = cross_val_score(logreg, iris.data, iris.target, cv=5)\n",
    "print(\"Cross-validation scores: {}\".format(scores))\n",
    "\n",
    "print(\"Average cross-validation score: {:.2f}\".format(scores.mean()))"
   ]
  },
  {
   "cell_type": "code",
   "execution_count": null,
   "id": "d61e9049",
   "metadata": {},
   "outputs": [],
   "source": [
    "# irisデータセットのstratified k-fold cross-validation\n",
    "\n"
   ]
  }
 ],
 "metadata": {
  "kernelspec": {
   "display_name": "Python 3",
   "language": "python",
   "name": "python3"
  },
  "language_info": {
   "codemirror_mode": {
    "name": "ipython",
    "version": 3
   },
   "file_extension": ".py",
   "mimetype": "text/x-python",
   "name": "python",
   "nbconvert_exporter": "python",
   "pygments_lexer": "ipython3",
   "version": "3.8.8"
  }
 },
 "nbformat": 4,
 "nbformat_minor": 5
}
